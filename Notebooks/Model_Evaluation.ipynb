{
 "cells": [
  {
   "cell_type": "code",
   "execution_count": 1,
   "id": "924bab19",
   "metadata": {},
   "outputs": [],
   "source": [
    "from tensorflow.keras.models import load_model\n",
    "import pandas as pd\n",
    "import pickle\n",
    "from sklearn.metrics import accuracy_score, roc_auc_score, RocCurveDisplay, classification_report\n",
    "import numpy as np"
   ]
  },
  {
   "cell_type": "code",
   "execution_count": 83,
   "id": "d30c1d2a",
   "metadata": {},
   "outputs": [],
   "source": [
    "test = pd.read_csv(\"../Data/Test.csv\")\n",
    "model = load_model(\"../Models/Fake_news_detect_v6.keras\")\n",
    "with open('../tools/saved_vectorizer_v2.pkl', 'rb') as file:\n",
    "    vectorizer = pickle.load(file)"
   ]
  },
  {
   "cell_type": "code",
   "execution_count": 84,
   "id": "1565ca36",
   "metadata": {},
   "outputs": [
    {
     "data": {
      "text/plain": [
       "(635, 20365)"
      ]
     },
     "execution_count": 84,
     "metadata": {},
     "output_type": "execute_result"
    }
   ],
   "source": [
    "X_test_vec = vectorizer.transform(test.article)\n",
    "y_test = test.label\n",
    "X_test_vec.shape"
   ]
  },
  {
   "cell_type": "code",
   "execution_count": 85,
   "id": "30668ef2",
   "metadata": {},
   "outputs": [
    {
     "name": "stdout",
     "output_type": "stream",
     "text": [
      "\u001b[1m20/20\u001b[0m \u001b[32m━━━━━━━━━━━━━━━━━━━━\u001b[0m\u001b[37m\u001b[0m \u001b[1m0s\u001b[0m 4ms/step \n"
     ]
    }
   ],
   "source": [
    "pred = model.predict(X_test_vec)"
   ]
  },
  {
   "cell_type": "code",
   "execution_count": 86,
   "id": "f58fdccd-04be-47aa-9879-11de12ce8fff",
   "metadata": {},
   "outputs": [
    {
     "data": {
      "text/plain": [
       "0.9911309523809524"
      ]
     },
     "execution_count": 86,
     "metadata": {},
     "output_type": "execute_result"
    }
   ],
   "source": [
    "roc_auc_score(y_test, pred)"
   ]
  },
  {
   "cell_type": "code",
   "execution_count": 87,
   "id": "3d28a549-da54-42f5-98f3-a0a8453a6402",
   "metadata": {},
   "outputs": [
    {
     "data": {
      "text/plain": [
       "<sklearn.metrics._plot.roc_curve.RocCurveDisplay at 0x1d847e2c2f0>"
      ]
     },
     "execution_count": 87,
     "metadata": {},
     "output_type": "execute_result"
    },
    {
     "data": {
      "image/png": "[encoded data removed]",
      "text/plain": [
       "<Figure size 640x480 with 1 Axes>"
      ]
     },
     "metadata": {},
     "output_type": "display_data"
    }
   ],
   "source": [
    "RocCurveDisplay.from_predictions(y_test, pred)"
   ]
  },
  {
   "cell_type": "code",
   "execution_count": 88,
   "id": "1c7879a9-beac-4b07-8672-cf7a721b5a14",
   "metadata": {},
   "outputs": [
    {
     "data": {
      "text/html": [
       "<div>\n",
       "<style scoped>\n",
       "    .dataframe tbody tr th:only-of-type {\n",
       "        vertical-align: middle;\n",
       "    }\n",
       "\n",
       "    .dataframe tbody tr th {\n",
       "        vertical-align: top;\n",
       "    }\n",
       "\n",
       "    .dataframe thead th {\n",
       "        text-align: right;\n",
       "    }\n",
       "</style>\n",
       "<table border=\"1\" class=\"dataframe\">\n",
       "  <thead>\n",
       "    <tr style=\"text-align: right;\">\n",
       "      <th></th>\n",
       "      <th>precision</th>\n",
       "      <th>recall</th>\n",
       "      <th>f1-score</th>\n",
       "      <th>support</th>\n",
       "    </tr>\n",
       "  </thead>\n",
       "  <tbody>\n",
       "    <tr>\n",
       "      <th>0</th>\n",
       "      <td>0.958730</td>\n",
       "      <td>0.943750</td>\n",
       "      <td>0.951181</td>\n",
       "      <td>320.000000</td>\n",
       "    </tr>\n",
       "    <tr>\n",
       "      <th>1</th>\n",
       "      <td>0.943750</td>\n",
       "      <td>0.958730</td>\n",
       "      <td>0.951181</td>\n",
       "      <td>315.000000</td>\n",
       "    </tr>\n",
       "    <tr>\n",
       "      <th>accuracy</th>\n",
       "      <td>0.951181</td>\n",
       "      <td>0.951181</td>\n",
       "      <td>0.951181</td>\n",
       "      <td>0.951181</td>\n",
       "    </tr>\n",
       "    <tr>\n",
       "      <th>macro avg</th>\n",
       "      <td>0.951240</td>\n",
       "      <td>0.951240</td>\n",
       "      <td>0.951181</td>\n",
       "      <td>635.000000</td>\n",
       "    </tr>\n",
       "    <tr>\n",
       "      <th>weighted avg</th>\n",
       "      <td>0.951299</td>\n",
       "      <td>0.951181</td>\n",
       "      <td>0.951181</td>\n",
       "      <td>635.000000</td>\n",
       "    </tr>\n",
       "  </tbody>\n",
       "</table>\n",
       "</div>"
      ],
      "text/plain": [
       "              precision    recall  f1-score     support\n",
       "0              0.958730  0.943750  0.951181  320.000000\n",
       "1              0.943750  0.958730  0.951181  315.000000\n",
       "accuracy       0.951181  0.951181  0.951181    0.951181\n",
       "macro avg      0.951240  0.951240  0.951181  635.000000\n",
       "weighted avg   0.951299  0.951181  0.951181  635.000000"
      ]
     },
     "execution_count": 88,
     "metadata": {},
     "output_type": "execute_result"
    }
   ],
   "source": [
    "report = classification_report(y_test,np.round(pred), output_dict=True)\n",
    "pd.DataFrame(report).T"
   ]
  },
  {
   "cell_type": "code",
   "execution_count": null,
   "id": "e4dacf94",
   "metadata": {},
   "outputs": [],
   "source": []
  }
 ],
 "metadata": {
  "kernelspec": {
   "display_name": "base",
   "language": "python",
   "name": "python3"
  },
  "language_info": {
   "codemirror_mode": {
    "name": "ipython",
    "version": 3
   },
   "file_extension": ".py",
   "mimetype": "text/x-python",
   "name": "python",
   "nbconvert_exporter": "python",
   "pygments_lexer": "ipython3",
   "version": "3.12.7"
  }
 },
 "nbformat": 4,
 "nbformat_minor": 5
}
